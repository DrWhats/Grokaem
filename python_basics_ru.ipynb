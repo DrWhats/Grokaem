{
  "cells": [
    {
      "metadata": {
        "_uuid": "b11da6c6dacadb0323d5cc7091445c458c020083",
        "_cell_guid": "b1076dfc-b9ad-4769-8c92-a6c4dae69d19",
        "trusted": true,
        "collapsed": true,
        "id": "gdCsf78rApbN"
      },
      "cell_type": "markdown",
      "source": [
        "# Hello, Python!\n",
        "\n",
        "Python был назван в честь британской комедийной труппы Monty Python, так почему бы не сделать нашу первую программу на Python в честь их знаменитой сценки про спам?\n",
        "\n",
        "Просто для развлечения попробуйте прочитать приведенный ниже код и предсказать, что он будет делать при выполнении. (Если у вас нет никаких предположений, это не страшно!).\n",
        "\n"
      ]
    },
    {
      "metadata": {
        "_cell_guid": "79c7e3d0-c299-4dcb-8224-4455121ee9b0",
        "_uuid": "7daa7b911a4912289ec797a729309ef5a8d5137d",
        "trusted": true,
        "_kg_hide-input": false,
        "scrolled": false,
        "collapsed": true,
        "colab": {
          "base_uri": "https://localhost:8080/"
        },
        "id": "VTz36j5kApbO",
        "outputId": "aa597e2a-88cb-46be-9853-2b2895d4a0c9"
      },
      "cell_type": "code",
      "source": [
        "spam_amount = 0\n",
        "print(spam_amount)\n",
        "\n",
        "# Заказ спама, яйца, спама, бекона и спама (еще 4 порции спама)\n",
        "spam_amount = spam_amount + 4\n",
        "\n",
        "if spam_amount > 0:\n",
        "    print(\"Но я не хочу НИКАКОГО спама!\")\n",
        "\n",
        "viking_song = \"Spam \" * spam_amount\n",
        "print(viking_song)"
      ],
      "execution_count": 1,
      "outputs": [
        {
          "output_type": "stream",
          "name": "stdout",
          "text": [
            "0\n",
            "Но я не хочу НИКАКОГО спама!\n",
            "Spam Spam Spam Spam \n"
          ]
        }
      ]
    },
    {
      "metadata": {
        "_uuid": "7b1816f1722ea027ecc0d46e204bfab6b8fd3ea2",
        "id": "wqSW16BQApbP"
      },
      "cell_type": "markdown",
      "source": [
        "Здесь есть что посмотреть! Эта глупая программа демонстрирует многие важные аспекты того, как выглядит код на Python (его синтаксис) и как он работает (его семантика). Давайте пройдемся по коду сверху вниз."
      ]
    },
    {
      "metadata": {
        "trusted": true,
        "collapsed": true,
        "_uuid": "99e9bb485503aeafde4daea3a15833ac7c9ea41d",
        "id": "iRUOOdRmApbP"
      },
      "cell_type": "code",
      "source": [
        "spam_account = 0"
      ],
      "execution_count": 2,
      "outputs": []
    },
    {
      "metadata": {
        "_uuid": "5fcfec430a5506ed470d061fea2284c07a93c3e7",
        "id": "EoDsMQeLApbP"
      },
      "cell_type": "markdown",
      "source": [
        "Присвоение переменной : Здесь мы создаем переменную spam_amount и присваиваем ей значение 0 с помощью =, оператора присваивания в Python.\n",
        "\n",
        "> Примечание:\n",
        "> Если вы программировали на некоторых других языках (например, Java или C++), вы можете заметить некоторые вещи, которые Python не требует от нас делать здесь:\n",
        ">\n",
        "> * нам не нужно \"объявлять\" spam_amount перед присвоением ему значения\n",
        "> * нам не нужно сообщать Python, на какой тип значения будет ссылаться spam_amount. Более того, мы можем даже переназначить spam_amount на другой тип, например, на строку или булево значение.\n",
        ">\n",
        ">"
      ]
    },
    {
      "metadata": {
        "trusted": true,
        "scrolled": true,
        "_uuid": "210c4bcfe38521b3ff32a2db522e40bfc9a3f379",
        "collapsed": true,
        "colab": {
          "base_uri": "https://localhost:8080/"
        },
        "id": "XNjP2bZ7ApbP",
        "outputId": "4fb8af62-5299-42ac-ca7c-051ac45b1c18"
      },
      "cell_type": "code",
      "source": [
        "print(spam_account)"
      ],
      "execution_count": 3,
      "outputs": [
        {
          "output_type": "stream",
          "name": "stdout",
          "text": [
            "0\n"
          ]
        }
      ]
    },
    {
      "metadata": {
        "_uuid": "554ef4a96ffa3c77a967709c9b96c58751c8e455",
        "id": "p4HpGGCEApbP"
      },
      "cell_type": "markdown",
      "source": [
        "Вызов функции. print - это чрезвычайно полезная встроенная функция Python, которая выводит переданное ей значение на экран. Мы вызываем функции, заключая их в круглые скобки после имени, а между ними указываем входы в функцию (или аргументы)."
      ]
    },
    {
      "metadata": {
        "trusted": true,
        "_uuid": "b66153900f70d81909c04a8cd5a4ae3449216025",
        "collapsed": true,
        "colab": {
          "base_uri": "https://localhost:8080/"
        },
        "id": "9Iw302fQApbQ",
        "outputId": "bfe9012f-cc18-4cd3-b5d6-485729a06db4"
      },
      "cell_type": "code",
      "source": [
        "# Ordering Spam, egg, Spam, Spam, bacon and Spam (4 more servings of Spam)\n",
        "spam_amount = spam_amount + 4\n",
        "print(spam_account)"
      ],
      "execution_count": 6,
      "outputs": [
        {
          "output_type": "stream",
          "name": "stdout",
          "text": [
            "0\n"
          ]
        }
      ]
    },
    {
      "metadata": {
        "_uuid": "3c13b04b45619c49faa477e6c5855c0a1d87e163",
        "id": "ilii9tJjApbQ"
      },
      "cell_type": "markdown",
      "source": [
        "Первая строка выше - это комментарий. В Python комментарии начинаются с символа #.\n",
        "\n",
        "Далее мы видим пример переназначения. Переназначение значения существующей переменной выглядит так же, как и создание переменной, - в нем по-прежнему используется оператор присваивания =.\n",
        "\n",
        "В данном случае значение, которое мы присваиваем spam_amount, включает в себя простую арифметическую операцию над предыдущим значением.\n",
        "Когда Python встречает эту строку, он оценивает выражение в правой части оператора = (0 + 4 = 4), а затем присваивает это значение переменной в левой части."
      ]
    },
    {
      "metadata": {
        "trusted": true,
        "_uuid": "94d96b1e66803d8fe6862a3beb4277372485ae9f",
        "collapsed": true,
        "colab": {
          "base_uri": "https://localhost:8080/"
        },
        "id": "pHju8CGRApbQ",
        "outputId": "6ddb2623-f553-49d3-eb1a-67f0b7fe5015"
      },
      "cell_type": "code",
      "source": [
        "if spam_amount > 0:\n",
        "    print(\"But I don't want ANY spam!\")"
      ],
      "execution_count": 7,
      "outputs": [
        {
          "output_type": "stream",
          "name": "stdout",
          "text": [
            "But I don't want ANY spam!\n"
          ]
        }
      ]
    },
    {
      "metadata": {
        "_uuid": "c203f10d06b63aff3a0c2f08f18db3ad14ce68e3",
        "id": "1jrpWTq9ApbQ"
      },
      "cell_type": "markdown",
      "source": [
        "Мы не будем много говорить об условных операторах, но, даже если вы никогда раньше не кодили, вы, вероятно, догадаетесь, что это делает. Python ценится за удобочитаемость и простоту синтаксиса (некоторые называют его \"исполняемым псевдокодом\").\n",
        "Обратите внимание, как мы указали, какой код относится к if. \"Но мне не нужен НИКАКОЙ спам!\" должен быть выведен только в том случае, если spam_amount положителен.\n",
        "А вот последующий код (например, print(viking_song)) должен быть выполнен независимо от этого. Откуда мы (и Python) это знаем?\n",
        "\n",
        "Двоеточие (:) в конце строки if указывает на то, что наступает новый \"блок кода\". Последующие строки, имеющие отступ (начинающиеся с дополнительных 4 пробелов), являются частью этого блока кода. Вы можете быть знакомы с другими языками, в которых для обозначения начала и конца блоков кода используются {курсивные скобки}. Использование в Python значимых пробельных символов часто вызывает удивление у программистов, привыкших к другим языкам, но на практике это может привести к более последовательному и читаемому коду, чем в языках, не использующих отступы в блоках кода.\n",
        "\n",
        "Более поздние строки, связанные с viking_song, не имеют дополнительного отступа в 4 пробела, поэтому они не являются частью блока кода if. Другие примеры отступов блоков кода мы увидим позже, когда начнем определять функции и использовать циклы.\n",
        "\n",
        "В этом фрагменте кода мы также впервые видим строку в Python:"
      ]
    },
    {
      "metadata": {
        "trusted": true,
        "_uuid": "5db98ea14193dfd196dfce3d4a84daf8ad02793c",
        "collapsed": true,
        "colab": {
          "base_uri": "https://localhost:8080/"
        },
        "id": "AQuqVhGYApbQ",
        "outputId": "bfa2dd52-6d95-46fe-aab1-c1c4d122b90d"
      },
      "cell_type": "code",
      "source": [
        "\"But I don't want ANY spam!\"\n",
        "viking_song=0\n",
        "print(viking_song)"
      ],
      "execution_count": 9,
      "outputs": [
        {
          "output_type": "stream",
          "name": "stdout",
          "text": [
            "0\n"
          ]
        }
      ]
    },
    {
      "metadata": {
        "_uuid": "2faf8ff128dea93d2ca65f838678600a35e4c2ca",
        "id": "_RJV9FtwApbQ"
      },
      "cell_type": "markdown",
      "source": [
        "Строки могут быть помечены как двойными, так и одинарными кавычками. (Но поскольку данная конкретная строка содержит символ одинарной кавычки, мы можем запутать Python, пытаясь окружить ее одинарными кавычками, если не будем осторожны)."
      ]
    },
    {
      "metadata": {
        "trusted": true,
        "_uuid": "1f677a7e86f7b438af1ff3483cce9e1bbe3caabc",
        "collapsed": true,
        "colab": {
          "base_uri": "https://localhost:8080/"
        },
        "id": "I5Vu0owFApbQ",
        "outputId": "232938aa-7e04-4226-f4e8-46aa4cb8dff7"
      },
      "cell_type": "code",
      "source": [
        "viking_song = \"Spam \" * spam_amount\n",
        "print(viking_song)"
      ],
      "execution_count": 10,
      "outputs": [
        {
          "output_type": "stream",
          "name": "stdout",
          "text": [
            "Spam Spam Spam Spam Spam Spam Spam Spam Spam Spam Spam Spam \n"
          ]
        }
      ]
    },
    {
      "metadata": {
        "_uuid": "dc2d9572fb4db9281d3ca2f6eee0ec84ea8cd551",
        "id": "kHIXSRYkApbR"
      },
      "cell_type": "markdown",
      "source": [
        "Оператор * можно использовать для умножения двух чисел (3 * 3 равно 9), но, как ни забавно, мы также можем умножить строку на число, чтобы получить значение, которое повторяется столько-то раз. В Python есть несколько нахальных трюков, позволяющих сэкономить время. Такие операторы, как * и +, имеют разное значение в зависимости от того, к какому элементу они применяются. (Технический термин для этого - перегрузка операторов)"
      ]
    },
    {
      "metadata": {
        "_uuid": "3d86f82bf18980b039977917c45dc52f107b47cb",
        "id": "NXmXq_AKApbR"
      },
      "cell_type": "markdown",
      "source": [
        "# Числа и арифметика в Python\n",
        "\n",
        "Выше мы уже рассматривали пример переменной, содержащей число:"
      ]
    },
    {
      "metadata": {
        "trusted": true,
        "collapsed": true,
        "_uuid": "8510c1cf075d8ac6f354fd720f265c3f94f6d64f",
        "id": "Y05EEUKJApbR"
      },
      "cell_type": "code",
      "source": [
        "spam_amount = 0"
      ],
      "execution_count": 11,
      "outputs": []
    },
    {
      "metadata": {
        "_uuid": "9aaa3f58fcc1b1eb89d01d7da3a4586ca2317aa4",
        "id": "TyjmMzqgApbR"
      },
      "cell_type": "markdown",
      "source": [
        "\"Число\" - прекрасное неформальное название для такого типа вещей, но если мы хотим быть более техничными, мы можем спросить Python, как он может описать тип вещи, которой является spam_amount:"
      ]
    },
    {
      "metadata": {
        "trusted": true,
        "collapsed": true,
        "_uuid": "7ee5f468f38704a0c0139f3e6af7cc5c6259d3f6",
        "colab": {
          "base_uri": "https://localhost:8080/"
        },
        "id": "nZAIJTTXApbR",
        "outputId": "24533704-7332-49b3-a8cd-57576c67e0df"
      },
      "cell_type": "code",
      "source": [
        "type(spam_amount)"
      ],
      "execution_count": 12,
      "outputs": [
        {
          "output_type": "execute_result",
          "data": {
            "text/plain": [
              "int"
            ]
          },
          "metadata": {},
          "execution_count": 12
        }
      ]
    },
    {
      "metadata": {
        "_uuid": "df8ae9bc2c9659d9206a3ef57d5d9d3427c34681",
        "id": "d2Mxc3g9ApbR"
      },
      "cell_type": "markdown",
      "source": [
        "It's an int - short for integer. There's another sort of number we commonly encounter in Python:"
      ]
    },
    {
      "metadata": {
        "trusted": true,
        "collapsed": true,
        "_uuid": "3e19daabaecb94a419760267b98a2a98ea0895e4",
        "colab": {
          "base_uri": "https://localhost:8080/"
        },
        "id": "MVHdrkZDApbR",
        "outputId": "bc5b3628-aee5-4346-ad24-7c1c7caf6432"
      },
      "cell_type": "code",
      "source": [
        "type(19.95)"
      ],
      "execution_count": 13,
      "outputs": [
        {
          "output_type": "execute_result",
          "data": {
            "text/plain": [
              "float"
            ]
          },
          "metadata": {},
          "execution_count": 13
        }
      ]
    },
    {
      "metadata": {
        "_uuid": "421b2f093083de2c1b25be300a8a51402d39c413",
        "id": "qyjEjdhvApbR"
      },
      "cell_type": "markdown",
      "source": [
        "float - это число с десятичным знаком, что очень удобно для представления таких величин, как вес или пропорции.\n",
        "\n",
        "type() - это вторая встроенная функция, которую мы рассмотрели (после print()), и это еще одна хорошая функция, которую следует запомнить. Очень полезно иметь возможность спросить у Python: \"Что это за вещь?\".\n",
        "\n",
        "Естественно, что с числами нужно выполнять арифметические действия. Мы уже видели оператор + для сложения и оператор * для умножения (в некотором роде). В Python есть и остальные основные кнопки калькулятора:\n",
        "\n",
        "Интересно отметить, что в то время как в вашем калькуляторе, вероятно, есть только одна кнопка для деления, Python может выполнять два вида деления. \"Истинное деление\" - это в основном то, что делает ваш калькулятор:"
      ]
    },
    {
      "metadata": {
        "trusted": true,
        "collapsed": true,
        "_uuid": "9656397b2f4f5fbacaa63b39fc62a61579233d2a",
        "id": "bGIEenDgApbS"
      },
      "cell_type": "code",
      "source": [
        "print(5 / 2)\n",
        "print(6 / 2)"
      ],
      "execution_count": null,
      "outputs": []
    },
    {
      "metadata": {
        "_uuid": "969814e90b78b24b4f4b02885a3ef0c72633b4ef",
        "id": "mxp85smGApbS"
      },
      "cell_type": "markdown",
      "source": [
        "Он всегда дает нам плавающее число.\n",
        "\n",
        "Оператор // дает результат, округленный до ближайшего целого числа."
      ]
    },
    {
      "metadata": {
        "trusted": true,
        "collapsed": true,
        "_uuid": "4c9949257af4298040eab2a0d3aba83ec9f5db1f",
        "id": "jD0nRZNqApbS"
      },
      "cell_type": "code",
      "source": [
        "print(5 // 2)\n",
        "print(6 // 2)"
      ],
      "execution_count": null,
      "outputs": []
    },
    {
      "metadata": {
        "_uuid": "dccdd1f42ca5da1fd39cceb5cfa4375e05fdb0ec",
        "id": "ZITvBap0ApbS"
      },
      "cell_type": "markdown",
      "source": [
        "Можете ли вы подумать, где это может быть полезно? Пример вы можете увидеть в ближайшее время в задачах по кодированию.\n",
        "\n",
        "** Порядок выполнения операций **\n",
        "\n",
        "В арифметике, которую мы изучали в начальной школе, существуют соглашения о порядке выполнения операций.\n",
        "\n",
        "В Python действуют аналогичные правила относительно того, какие вычисления следует выполнять в первую очередь. В основном они довольно интуитивно понятны."
      ]
    },
    {
      "metadata": {
        "trusted": true,
        "collapsed": true,
        "_uuid": "914b568dbfb5125676ee0bdd49bff9c9cedf66e8",
        "colab": {
          "base_uri": "https://localhost:8080/"
        },
        "id": "_ANtznXtApbS",
        "outputId": "2d82106f-3b48-40a4-abbc-2cabe0e98294"
      },
      "cell_type": "code",
      "source": [
        "8 - 3 + 2"
      ],
      "execution_count": 14,
      "outputs": [
        {
          "output_type": "execute_result",
          "data": {
            "text/plain": [
              "7"
            ]
          },
          "metadata": {},
          "execution_count": 14
        }
      ]
    },
    {
      "metadata": {
        "trusted": true,
        "collapsed": true,
        "_uuid": "a459dfe15f4b10e382d35da2780f467d0892c0e7",
        "colab": {
          "base_uri": "https://localhost:8080/"
        },
        "id": "KGLDUQwIApbS",
        "outputId": "b52339df-9f80-4b55-ea41-f273ee58e53a"
      },
      "cell_type": "code",
      "source": [
        "-3 + 4 * 2"
      ],
      "execution_count": 15,
      "outputs": [
        {
          "output_type": "execute_result",
          "data": {
            "text/plain": [
              "5"
            ]
          },
          "metadata": {},
          "execution_count": 15
        }
      ]
    },
    {
      "metadata": {
        "_uuid": "31f7d7326d1c5c1db47bcc9c94a36e0d1dc1ad54",
        "id": "uPjuGEFuApbS"
      },
      "cell_type": "markdown",
      "source": [
        "Sometimes the default order of operations isn't what we want:"
      ]
    },
    {
      "metadata": {
        "trusted": true,
        "collapsed": true,
        "_uuid": "d4fa14a41d2e82708ab78b7a014633e6351bb0fb",
        "colab": {
          "base_uri": "https://localhost:8080/"
        },
        "id": "x8Uz42SBApbS",
        "outputId": "cdfb8dd6-8919-4486-836c-7d329d9f6c02"
      },
      "cell_type": "code",
      "source": [
        "hat_height_cm = 25\n",
        "my_height_cm = 190\n",
        "# Какой у меня рост в метрах, когда я ношу шляпу?\n",
        "total_height_meters = hat_height_cm + my_height_cm / 100\n",
        "print(\"Высота в метрах =\", total_height_meters, \"?\")"
      ],
      "execution_count": 16,
      "outputs": [
        {
          "output_type": "stream",
          "name": "stdout",
          "text": [
            "Высота в метрах = 26.9 ?\n"
          ]
        }
      ]
    },
    {
      "metadata": {
        "_uuid": "f611c53815a3e7c3bf7076116c4f485119601618",
        "id": "4qc8Ea8vApbS"
      },
      "cell_type": "markdown",
      "source": [
        "Круглые скобки - это ваш козырь. Вы можете добавить их, чтобы заставить Python оценивать подвыражения в другом порядке (или просто для того, чтобы ваш код было легче читать)."
      ]
    },
    {
      "metadata": {
        "trusted": true,
        "collapsed": true,
        "_uuid": "8e5cc4506b31cadb225e15bfd2d7cf7e201110b0",
        "id": "8UIrOsqEApbT"
      },
      "cell_type": "code",
      "source": [
        "total_height_meters = (hat_height_cm + my_height_cm) / 100\n",
        "print(\"Height in meters =\", total_height_meters)"
      ],
      "execution_count": null,
      "outputs": []
    },
    {
      "metadata": {
        "_uuid": "d473f7cabd1506f9fd8c882669508363ee08a815",
        "id": "hYvx77YZApbT"
      },
      "cell_type": "markdown",
      "source": [
        "**Встроенные функции для работы с числами**.\n",
        "\n",
        "min и max возвращают минимальное и максимальное значение своих аргументов, соответственно..."
      ]
    },
    {
      "metadata": {
        "trusted": true,
        "collapsed": true,
        "_uuid": "2d1449e86ca0b9a38eb90bcd63944747a352bc6f",
        "colab": {
          "base_uri": "https://localhost:8080/"
        },
        "id": "WBuU5t3JApbT",
        "outputId": "f6549bb9-c5a6-49d8-eca2-f935458cb84d"
      },
      "cell_type": "code",
      "source": [
        "print(min(1, 2, 3))\n",
        "print(max(1, 2, 3))"
      ],
      "execution_count": 17,
      "outputs": [
        {
          "output_type": "stream",
          "name": "stdout",
          "text": [
            "1\n",
            "3\n"
          ]
        }
      ]
    },
    {
      "metadata": {
        "_uuid": "47dc0ad2bc5aed491e029a3597815ef4c67ec6d1",
        "id": "DfB950PLApbT"
      },
      "cell_type": "markdown",
      "source": [
        "abs возвращает абсолютную величину аргумента:"
      ]
    },
    {
      "metadata": {
        "trusted": true,
        "collapsed": true,
        "_uuid": "e39de9ca60a91193422dda01eaf36c4e9e139101",
        "colab": {
          "base_uri": "https://localhost:8080/"
        },
        "id": "oh5eaFA-ApbT",
        "outputId": "7ce814e1-ca0e-4a61-d53e-dd5b7bf5d871"
      },
      "cell_type": "code",
      "source": [
        "print(abs(32))\n",
        "print(abs(-32))"
      ],
      "execution_count": 18,
      "outputs": [
        {
          "output_type": "stream",
          "name": "stdout",
          "text": [
            "32\n",
            "32\n"
          ]
        }
      ]
    },
    {
      "metadata": {
        "_uuid": "c3ebd563061d855e9de1181aa9d33fd1fa57e784",
        "id": "IGQMP4zhApbT"
      },
      "cell_type": "markdown",
      "source": [
        "Помимо того, что int и float являются именами двух основных числовых типов Python, они также могут быть вызваны как функции, которые преобразуют свои аргументы к соответствующему типу:"
      ]
    },
    {
      "metadata": {
        "trusted": true,
        "collapsed": true,
        "_uuid": "ca321204642102d7ac572452d78876a2092f5c02",
        "colab": {
          "base_uri": "https://localhost:8080/"
        },
        "id": "RhBUbSuwApbU",
        "outputId": "cf492723-f255-431f-f778-ead1f6091149"
      },
      "cell_type": "code",
      "source": [
        "print(float(10))\n",
        "print(int(3.33))\n",
        "# They can even be called on strings!\n",
        "print(int('807') + 1)"
      ],
      "execution_count": 19,
      "outputs": [
        {
          "output_type": "stream",
          "name": "stdout",
          "text": [
            "10.0\n",
            "3\n",
            "808\n"
          ]
        }
      ]
    },
    {
      "metadata": {
        "_uuid": "5e6a72d4302b0cfaf1cf3cf763e97774a02b4938",
        "id": "uJvU9WoyApbU"
      },
      "cell_type": "markdown",
      "source": [
        "В некоторых языках функции должны быть определены таким образом, чтобы всегда принимать определенное количество аргументов, каждый из которых имеет определенный тип. Функции Python обладают гораздо большей гибкостью. Хорошим примером этого является функция print:"
      ]
    },
    {
      "metadata": {
        "trusted": true,
        "collapsed": true,
        "_uuid": "83e972c50a0604adf58bd7dd247b42d2b03ae494",
        "colab": {
          "base_uri": "https://localhost:8080/"
        },
        "id": "Uk0MP6fQApbU",
        "outputId": "6a04ca22-cee3-45d6-a474-3206f7d380cd"
      },
      "cell_type": "code",
      "source": [
        "print(\"Функция print принимает входной сигнал и выводит его на экран.\")\n",
        "print(\"Каждый вызов функции print начинается с новой строки.\")\n",
        "print(\"Вы часто будете вызывать функцию print со строками, но вы можете передать любое значение. Например, число:\")\n",
        "print(2 + 2)\n",
        "print(\"Если print вызывается с несколькими аргументами...\", \"он соединяет их\",\n",
        "      \"(с пробелами между ними)\", \"перед печатью.\")\n",
        "print('Но', 'это', 'можно', 'настроить', sep='!...')\n",
        "print()\n",
        "print(\"^^^ print можно также вызвать без аргументов, чтобы напечатать пустую строку.\")"
      ],
      "execution_count": 22,
      "outputs": [
        {
          "output_type": "stream",
          "name": "stdout",
          "text": [
            "Функция print принимает входной сигнал и выводит его на экран.\n",
            "Каждый вызов функции print начинается с новой строки.\n",
            "Вы часто будете вызывать функцию print со строками, но вы можете передать любое значение. Например, число:\n",
            "4\n",
            "Если print вызывается с несколькими аргументами... он соединяет их (с пробелами между ними) перед печатью.\n",
            "Но!...это!...можно!...настроить\n",
            "\n",
            "^^^ print можно также вызвать без аргументов, чтобы напечатать пустую строку.\n"
          ]
        }
      ]
    },
    {
      "metadata": {
        "_uuid": "735a2760e66718b8c2432a28c1f497af9aeb2b64",
        "id": "Nb1qMclcApbU"
      },
      "cell_type": "markdown",
      "source": [
        "**\"Что делает эта функция? \"**.\n",
        "\n",
        "В предыдущем уроке я показал функцию abs, но что делать, если вы забыли, что она делает?\n",
        "\n",
        "Функция help() - это, возможно, самая важная функция языка Python, которую вы можете выучить. Если вы помните, как использовать функцию help(), то вы владеете ключом к пониманию практически любой другой функции в Python."
      ]
    },
    {
      "metadata": {
        "trusted": true,
        "collapsed": true,
        "_uuid": "1046bded22fa651471ba09ac0ce6e3937b542f29",
        "colab": {
          "base_uri": "https://localhost:8080/"
        },
        "id": "_V1TclFoApbU",
        "outputId": "83a22df3-6a57-4c64-dfef-eebafb80428b"
      },
      "cell_type": "code",
      "source": [
        "help(abs)"
      ],
      "execution_count": 23,
      "outputs": [
        {
          "output_type": "stream",
          "name": "stdout",
          "text": [
            "Help on built-in function abs in module builtins:\n",
            "\n",
            "abs(x, /)\n",
            "    Return the absolute value of the argument.\n",
            "\n"
          ]
        }
      ]
    },
    {
      "metadata": {
        "_uuid": "4df1a8a9d534f8b69c85c9c493b9f5b5a01ae0b0",
        "id": "pH9rnQz5ApbU"
      },
      "cell_type": "markdown",
      "source": [
        "При применении к функции help() выводит...\n",
        "\n",
        "* заголовок этой функции abs(x, /). В данном случае это говорит о том, что abs() принимает единственный аргумент x. (Прямая косая черта не важна, но если вам интересно, вы можете прочитать о ней здесь)\n",
        "* Краткое английское описание того, что делает функция.\n",
        "\n",
        "Распространенный подводный камень: когда вы ищете функцию, не забывайте передавать имя самой функции, а не результат вызова этой функции.\n",
        "\n",
        "Что произойдет, если мы вызовем справку на вызов функции abs()? Скройте вывод ячейки ниже, чтобы увидеть это."
      ]
    },
    {
      "metadata": {
        "_uuid": "e5f353e67baa45f13c603158b4f365035da082f0",
        "id": "wfabBLmmApbU"
      },
      "cell_type": "markdown",
      "source": [
        "Python оценивает подобное выражение изнутри. Сначала он вычисляет значение abs(-2), а затем выдает справку о том, каково значение этого выражения.\n",
        "\n",
        "(И оказывается, что в нем есть много интересного о целых числах! В Python даже такое простое на вид число, как целое, на самом деле является объектом с достаточно большой внутренней сложностью. После того, как мы поговорим об объектах, методах и атрибутах в Python, объемная справка, приведенная выше, станет более понятной).\n",
        "\n",
        "abs - очень простая функция с короткой строкой документации. help еще больше проявляет себя при работе с более сложными, настраиваемыми функциями, такими как print:"
      ]
    },
    {
      "metadata": {
        "trusted": true,
        "collapsed": true,
        "_uuid": "1e2df561bd786dfc6ad12f2744094cefdad5d06a",
        "colab": {
          "base_uri": "https://localhost:8080/"
        },
        "id": "JgwxTf3YApbV",
        "outputId": "a1794394-0457-427a-ac93-1f31a1accaa8"
      },
      "cell_type": "code",
      "source": [
        "help(print)"
      ],
      "execution_count": 24,
      "outputs": [
        {
          "output_type": "stream",
          "name": "stdout",
          "text": [
            "Help on built-in function print in module builtins:\n",
            "\n",
            "print(...)\n",
            "    print(value, ..., sep=' ', end='\\n', file=sys.stdout, flush=False)\n",
            "    \n",
            "    Prints the values to a stream, or to sys.stdout by default.\n",
            "    Optional keyword arguments:\n",
            "    file:  a file-like object (stream); defaults to the current sys.stdout.\n",
            "    sep:   string inserted between values, default a space.\n",
            "    end:   string appended after the last value, default a newline.\n",
            "    flush: whether to forcibly flush the stream.\n",
            "\n"
          ]
        }
      ]
    },
    {
      "metadata": {
        "_uuid": "2746525cc78280c68c81b0fc30082b8186772e0a",
        "id": "UfSF5xpRApbV"
      },
      "cell_type": "markdown",
      "source": [
        "# Определение функций\n",
        "\n",
        "Встроенные функции - это замечательно, но с их помощью мы можем продвинуться только до того момента, когда нам придется начать определять собственные функции. Ниже приведен простой пример."
      ]
    },
    {
      "metadata": {
        "trusted": true,
        "collapsed": true,
        "_uuid": "2428adfc77f0efc8140cf6e26dc0bb5fc9a58308",
        "id": "cadAvnSvApbV"
      },
      "cell_type": "code",
      "source": [
        "def least_difference(a, b, c):\n",
        "    diff1 = abs(a - b)\n",
        "    diff2 = abs(b - c)\n",
        "    diff3 = abs(a - c)\n",
        "    return min(diff1, diff2, diff3)"
      ],
      "execution_count": 25,
      "outputs": []
    },
    {
      "metadata": {
        "_uuid": "dbe9ab29d3ad0240f2471fd38b3710756f3fa17c",
        "id": "UR0NPcKLApbV"
      },
      "cell_type": "markdown",
      "source": [
        "В результате создается функция least_difference, принимающая три аргумента: a, b и c.\n",
        "\n",
        "Функции начинаются с заголовка, представленного ключевым словом def. Блок кода с отступами, следующий за символом :, выполняется при вызове функции.\n",
        "\n",
        "return - еще одно ключевое слово, однозначно связанное с функциями. Когда Python встречает оператор return, он немедленно выходит из функции и передает вызывающему контексту значение, находящееся в правой части.\n",
        "\n",
        "Понятно ли из исходного кода, что делает функция least_difference()? Если мы не уверены, то всегда можем опробовать ее на нескольких примерах:"
      ]
    },
    {
      "metadata": {
        "trusted": true,
        "collapsed": true,
        "_uuid": "6da78930ff288d5aea0a06dd1187fb2bcf923487",
        "colab": {
          "base_uri": "https://localhost:8080/"
        },
        "id": "NEyc1v6uApbV",
        "outputId": "aae021aa-b327-488e-e1dc-eb56bd3104c3"
      },
      "cell_type": "code",
      "source": [
        "print(\n",
        "    least_difference(1, 10, 100),\n",
        "    least_difference(1, 10, 10),\n",
        "    least_difference(5, 6, 7),\n",
        "    # Python allows trailing commas in argument lists. How nice is that?\n",
        ")"
      ],
      "execution_count": 26,
      "outputs": [
        {
          "output_type": "stream",
          "name": "stdout",
          "text": [
            "9 0 1\n"
          ]
        }
      ]
    },
    {
      "metadata": {
        "_uuid": "0fecafa151b413b4d151ab1e2770137e22e42bc1",
        "id": "uPRRvgLMApbV"
      },
      "cell_type": "markdown",
      "source": [
        "Или, может быть, функция help() может что-то рассказать об этом."
      ]
    },
    {
      "metadata": {
        "trusted": true,
        "collapsed": true,
        "_uuid": "4c3aa945b85c6a221dbf24d94f295d7a0821862a",
        "colab": {
          "base_uri": "https://localhost:8080/"
        },
        "id": "dLzaDCg5ApbV",
        "outputId": "7138446e-3472-46e8-823d-b9bce0634061"
      },
      "cell_type": "code",
      "source": [
        "help(least_difference)"
      ],
      "execution_count": 27,
      "outputs": [
        {
          "output_type": "stream",
          "name": "stdout",
          "text": [
            "Help on function least_difference in module __main__:\n",
            "\n",
            "least_difference(a, b, c)\n",
            "\n"
          ]
        }
      ]
    },
    {
      "metadata": {
        "_uuid": "bcae020c2da48c9fd2f8210396dc30f86641bdae",
        "id": "rhDDB2NgApbV"
      },
      "cell_type": "markdown",
      "source": [
        "Неудивительно, что Python не настолько умен, чтобы прочитать мой код и превратить его в красивое описание на английском языке. Однако, когда я пишу функцию, я могу предоставить ее описание в так называемой docstring.\n",
        "\n",
        "**Докстринги**.\n",
        "\n",
        "Докстринги - это хороший способ документировать свой код для других - или даже для себя."
      ]
    },
    {
      "metadata": {
        "trusted": true,
        "collapsed": true,
        "_uuid": "86db8a14c6a08f63f0d35569d260d7a6052205a7",
        "id": "Ls9TtpofApbV"
      },
      "cell_type": "code",
      "source": [
        "def least_difference(a, b, c):\n",
        "    \"\"\"Return the smallest difference between any two numbers\n",
        "    among a, b and c.\n",
        "\n",
        "    >>> least_difference(1, 5, -5)\n",
        "    4\n",
        "    \"\"\"\n",
        "    diff1 = abs(a - b)\n",
        "    diff2 = abs(b - c)\n",
        "    diff3 = abs(a - c)\n",
        "    return min(diff1, diff2, diff3)"
      ],
      "execution_count": 29,
      "outputs": []
    },
    {
      "metadata": {
        "_uuid": "1365e37df8cce2bc23dcc09dae9034ed6ea132fc",
        "id": "8xHkhUfgApbW"
      },
      "cell_type": "markdown",
      "source": [
        "docstring - это строка, заключенная в тройные кавычки (может занимать несколько строк), которая идет сразу после заголовка функции. Когда мы вызываем функцию с помощью функции help(), она выводит на экран строку docstring."
      ]
    },
    {
      "metadata": {
        "trusted": true,
        "collapsed": true,
        "_uuid": "cc8c0cdf02fe10a28d3b6085cf8befcafc6fbbb3",
        "colab": {
          "base_uri": "https://localhost:8080/"
        },
        "id": "XXP3KDrkApbW",
        "outputId": "c5b8b693-e425-4d68-bcdf-a5e86f88b124"
      },
      "cell_type": "code",
      "source": [
        "help(least_difference)"
      ],
      "execution_count": 30,
      "outputs": [
        {
          "output_type": "stream",
          "name": "stdout",
          "text": [
            "Help on function least_difference in module __main__:\n",
            "\n",
            "least_difference(a, b, c)\n",
            "    Return the smallest difference between any two numbers\n",
            "    among a, b and c.\n",
            "    \n",
            "    >>> least_difference(1, 5, -5)\n",
            "    4\n",
            "\n"
          ]
        }
      ]
    },
    {
      "metadata": {
        "_uuid": "e16ade1b69e816dbc7a4a22506e281f144d1fbd0",
        "id": "l1Qn4E4vApbW"
      },
      "cell_type": "markdown",
      "source": [
        "**Функции, которые не возвращаются**.\n",
        "\n",
        "Что произойдет, если мы не включим ключевое слово return в нашу функцию?"
      ]
    },
    {
      "metadata": {
        "trusted": true,
        "collapsed": true,
        "_uuid": "16b11826e04aaa44023c57dbe1b37b8543e5f6a9",
        "id": "2W8ceyu0ApbW"
      },
      "cell_type": "code",
      "source": [
        "def least_difference(a, b, c):\n",
        "    \"\"\"Return the smallest difference between any two numbers\n",
        "    among a, b and c.\n",
        "    \"\"\"\n",
        "    diff1 = abs(a - b)\n",
        "    diff2 = abs(b - c)\n",
        "    diff3 = abs(a - c)\n",
        "    min(diff1, diff2, diff3)\n",
        "\n",
        "print(\n",
        "    least_difference(1, 10, 100),\n",
        "    least_difference(1, 10, 10),\n",
        "    least_difference(5, 6, 7),\n",
        ")"
      ],
      "execution_count": null,
      "outputs": []
    },
    {
      "metadata": {
        "_uuid": "4568c6967b3743486ef332ef2ee7c169bcf9ac64",
        "id": "zD-wrAncApbW"
      },
      "cell_type": "markdown",
      "source": [
        "Python позволяет определять такие функции. Результатом их вызова является специальное значение None. (Это похоже на понятие \"null\" в других языках).\n",
        "\n",
        "Без оператора возврата least_difference совершенно бессмысленна, но функция с побочными эффектами может сделать что-то полезное, не возвращая ничего. Мы уже видели два таких примера: print() и help() ничего не возвращают. Мы вызываем их только для того, чтобы получить побочный эффект (вывести на экран текст). Другие примеры полезных побочных эффектов - запись в файл или модификация входных данных."
      ]
    },
    {
      "metadata": {
        "trusted": true,
        "collapsed": true,
        "_uuid": "08eb2b55b5b893f9820d95c3b644eab68dde342b",
        "colab": {
          "base_uri": "https://localhost:8080/"
        },
        "id": "_NAJdRnwApbW",
        "outputId": "6059d2fa-9a8a-44ce-bc67-b0c2033ad55e"
      },
      "cell_type": "code",
      "source": [
        "mystery = print()\n",
        "print(mystery)"
      ],
      "execution_count": 31,
      "outputs": [
        {
          "output_type": "stream",
          "name": "stdout",
          "text": [
            "\n",
            "None\n"
          ]
        }
      ]
    },
    {
      "metadata": {
        "_uuid": "95918018e10949bd39e0e70d7121586cb3208f4f",
        "id": "9RSFoqETApbW"
      },
      "cell_type": "markdown",
      "source": [
        "**Дефолтные аргументы**\n",
        "\n",
        "Вызвав help(print), мы увидели, что функция print имеет несколько необязательных аргументов. Например, мы можем указать значение sep, чтобы поместить между выводимыми аргументами какую-либо специальную строку:"
      ]
    },
    {
      "metadata": {
        "trusted": true,
        "collapsed": true,
        "_uuid": "bfb4c055b987c0e29dc9ac6a87cb15b5cc0cb196",
        "id": "Vy4GPgeAApbW"
      },
      "cell_type": "code",
      "source": [
        "print(1, 2, 3, sep=' < ')"
      ],
      "execution_count": null,
      "outputs": []
    },
    {
      "metadata": {
        "_uuid": "d0b36e36ff0c627ae0ee82e53a125d6da04b9c3a",
        "id": "1muKancAApbW"
      },
      "cell_type": "markdown",
      "source": [
        "Но если мы не указываем значение, то по умолчанию sep будет иметь значение ' ' (одиночный пробел)."
      ]
    },
    {
      "metadata": {
        "trusted": true,
        "collapsed": true,
        "_uuid": "98b3b7b425dc4c61dd4386bc93928171a944ba52",
        "id": "dLCYJ5CHApbX"
      },
      "cell_type": "code",
      "source": [
        "print(1, 2, 3)"
      ],
      "execution_count": null,
      "outputs": []
    },
    {
      "metadata": {
        "_uuid": "46c47328b1c1bb51668fe55c710fc729aea2380b",
        "id": "Cq5SGtW0ApbX"
      },
      "cell_type": "markdown",
      "source": [
        "Добавление необязательных аргументов со значениями по умолчанию в определяемые нами функции оказывается довольно простым:"
      ]
    },
    {
      "metadata": {
        "trusted": true,
        "collapsed": true,
        "_uuid": "592a2b802ae7b40baed32813d2b11b2d4b0e56f0",
        "colab": {
          "base_uri": "https://localhost:8080/"
        },
        "id": "aSTdiHVlApbX",
        "outputId": "7da8ee21-d40f-4c27-8548-bda07a5280e6"
      },
      "cell_type": "code",
      "source": [
        "def greet(who=\"Colin\"):\n",
        "    print(\"Hello,\", who)\n",
        "\n",
        "greet()\n",
        "greet(who=\"Kaggle\")\n",
        "# (In this case, we don't need to specify the name of the argument, because it's unambiguous.)\n",
        "greet(\"world\")"
      ],
      "execution_count": 32,
      "outputs": [
        {
          "output_type": "stream",
          "name": "stdout",
          "text": [
            "Hello, Colin\n",
            "Hello, Kaggle\n",
            "Hello, world\n"
          ]
        }
      ]
    },
    {
      "metadata": {
        "_uuid": "9b0e0e3acd37f101244652deb437ddd0b057fa9c",
        "id": "EJxtn1YJApbX"
      },
      "cell_type": "markdown",
      "source": [
        "**Функции - это тоже объекты**."
      ]
    },
    {
      "metadata": {
        "trusted": true,
        "collapsed": true,
        "_uuid": "f667f67114dd55f6b9ec6507e68b42101eda4413",
        "id": "Xu6HA0p2ApbX"
      },
      "cell_type": "code",
      "source": [
        "def f(n):\n",
        "    return n * 2\n",
        "\n",
        "x = 12.5"
      ],
      "execution_count": 34,
      "outputs": []
    },
    {
      "metadata": {
        "_uuid": "2a8b09f1d9e759f311378250d4acc6925ec10f2a",
        "id": "VH2oFdkrApbX"
      },
      "cell_type": "markdown",
      "source": [
        "Синтаксис для их создания может быть разным, но f и x в приведенном выше коде не так уж принципиально отличаются. Это переменные, которые ссылаются на объекты. x ссылается на объект типа float, а f - на объект типа... ну, спросим у Python:"
      ]
    },
    {
      "metadata": {
        "trusted": true,
        "collapsed": true,
        "_uuid": "6eb5e69a7449df533dbb921fbdde78fd7d654c60",
        "colab": {
          "base_uri": "https://localhost:8080/"
        },
        "id": "TssBGAPCApbX",
        "outputId": "9165270b-c5fb-492d-ae5a-9ee9e180a73e"
      },
      "cell_type": "code",
      "source": [
        "print(\n",
        "    type(x),\n",
        "    type(f), sep='\\n'\n",
        ")"
      ],
      "execution_count": 35,
      "outputs": [
        {
          "output_type": "stream",
          "name": "stdout",
          "text": [
            "<class 'float'>\n",
            "<class 'function'>\n"
          ]
        }
      ]
    },
    {
      "metadata": {
        "_uuid": "1bb0f1d77d119c54f96676eae51780a429f62bfc",
        "id": "dxH9RmxyApbX"
      },
      "cell_type": "markdown",
      "source": [
        "Мы даже можем попросить Python вывести f на экран:"
      ]
    },
    {
      "metadata": {
        "trusted": true,
        "collapsed": true,
        "_uuid": "87a753cb2ef0b8ffd2a175edc3d8b22ee5b3b0aa",
        "colab": {
          "base_uri": "https://localhost:8080/"
        },
        "id": "dfVdg3FaApbX",
        "outputId": "559c611a-ee9b-42e6-e46c-b3369aac78f7"
      },
      "cell_type": "code",
      "source": [
        "print(x)\n",
        "print(f)"
      ],
      "execution_count": 36,
      "outputs": [
        {
          "output_type": "stream",
          "name": "stdout",
          "text": [
            "12.5\n",
            "<function f at 0x7e4aa0283400>\n"
          ]
        }
      ]
    },
    {
      "metadata": {
        "_uuid": "a599ba3f064c29c48d38f8a876b228acb131a346",
        "id": "f3iG6OsLApbY"
      },
      "cell_type": "markdown",
      "source": [
        "...Хотя то, что он показывает, не слишком полезно.\n",
        "\n",
        "Обратите внимание, что в приведенных выше ячейках кода есть примеры функций (type и print), принимающих на вход другую функцию. Это открывает интересные возможности - мы можем вызывать функцию, полученную в качестве аргумента."
      ]
    },
    {
      "metadata": {
        "trusted": true,
        "collapsed": true,
        "_uuid": "354e4bf2f566535342da1074bcf9bfb1926c8439",
        "id": "_2nsxhYeApbY"
      },
      "cell_type": "code",
      "source": [
        "def call(fn, arg):\n",
        "    \"\"\"Call fn on arg\"\"\"\n",
        "    return fn(arg)\n",
        "\n",
        "def squared_call(fn, arg):\n",
        "    \"\"\"Call fn on the result of calling fn on arg\"\"\"\n",
        "    return fn(fn(arg))\n",
        "\n",
        "print(\n",
        "    call(f, 1),\n",
        "    squared_call(f, 1),\n",
        "    sep='\\n', # '\\n' is the newline character - it starts a new line\n",
        ")"
      ],
      "execution_count": null,
      "outputs": []
    },
    {
      "metadata": {
        "_uuid": "57106077ab99d1ddb10080395d4bfac1433378fe",
        "id": "C6BhPQRzApbY"
      },
      "cell_type": "markdown",
      "source": [
        "Вероятно, вы не будете часто определять [функции высшего порядка](https://en.wikipedia.org/wiki/Higher-order_function) подобным образом, но есть некоторые существующие (встроенные в Python и в такие библиотеки, как pandas или numpy), которые вы можете найти полезными для вызова. Например, max.\n",
        "\n",
        "По умолчанию max возвращает наибольший из своих аргументов. Но если мы передаем функцию с необязательным аргументом key, то она возвращает аргумент x, который максимизирует key(x) (он же \"argmax\")."
      ]
    },
    {
      "metadata": {
        "trusted": true,
        "collapsed": true,
        "_uuid": "e012b5b37cb67faef8ce7ad0136c7e9dafced50e",
        "id": "3tEbuoU2ApbY"
      },
      "cell_type": "code",
      "source": [
        "def mod_5(x):\n",
        "    \"\"\"Return the remainder of x after dividing by 5\"\"\"\n",
        "    return x % 5\n",
        "\n",
        "print(\n",
        "    'Which number is biggest?',\n",
        "    max(100, 51, 14),\n",
        "    'Which number is the biggest modulo 5?',\n",
        "    max(100, 51, 14, key=mod_5),\n",
        "    sep='\\n',\n",
        ")"
      ],
      "execution_count": null,
      "outputs": []
    },
    {
      "metadata": {
        "_uuid": "2aa87e3710341d72ad04dc79c5ca892683539e0e",
        "id": "whkq_5qAApbY"
      },
      "cell_type": "markdown",
      "source": [
        "**Лямбда-функции**\n",
        "\n",
        "Если вы пишете короткую функцию, тело которой умещается в одной строке (как, например, mod_5 выше), то синтаксис лямбда в Python очень удобен."
      ]
    },
    {
      "metadata": {
        "trusted": true,
        "collapsed": true,
        "_uuid": "aa10ff29a8dc6f675b019f32939940bd82873872",
        "id": "_JEhiWVlApbY"
      },
      "cell_type": "code",
      "source": [
        "mod_5 = lambda x: x % 5\n",
        "\n",
        "# Обратите внимание, что выше мы не используем ключевое слово \"return\" (оно неявное)\n",
        "# (Строка ниже выдаст SyntaxError)\n",
        "#mod_5 = lambda x: return x % 5\n",
        "\n",
        "print('101 mod 5 =', mod_5(101))"
      ],
      "execution_count": null,
      "outputs": []
    },
    {
      "metadata": {
        "trusted": true,
        "collapsed": true,
        "_uuid": "c13b60d7ccc3c0f4c6b8fd3f3739d3b9f6d97bbf",
        "id": "oN_ia-EDApbY"
      },
      "cell_type": "code",
      "source": [
        "# Лямбды могут принимать несколько аргументов, разделенных запятыми\n",
        "abs_diff = lambda a, b: abs(a-b)\n",
        "print(\"Абсолютная разность 5 и 7 равна\", abs_diff(5, 7))"
      ],
      "execution_count": null,
      "outputs": []
    },
    {
      "metadata": {
        "trusted": true,
        "collapsed": true,
        "_uuid": "10da62984af30b50765441429a897ec430fa7994",
        "id": "dqgzWTQHApbZ"
      },
      "cell_type": "code",
      "source": [
        "# Or no arguments\n",
        "always_32 = lambda: 32\n",
        "always_32()"
      ],
      "execution_count": null,
      "outputs": []
    },
    {
      "metadata": {
        "_uuid": "1454e365b8e103a9e1314dab16f630d5d43faa35",
        "id": "W--f3BE6ApbZ"
      },
      "cell_type": "markdown",
      "source": [
        "При разумном использовании лямбд можно иногда решать сложные задачи одной строкой."
      ]
    },
    {
      "metadata": {
        "trusted": true,
        "collapsed": true,
        "_uuid": "83da09206084ddd18cbf607a0fae608b628efef7",
        "id": "DeLjWy7OApbZ"
      },
      "cell_type": "code",
      "source": [
        "# Предварительный просмотр списков и строк. (Вскоре мы подробно рассмотрим и то, и другое)\n",
        "# - len: возвращает длину последовательности (например, строки или списка)\n",
        "# - sorted: возвращает отсортированную версию заданной последовательности (необязательный ключ\n",
        "# функция работает аналогично max и min)\n",
        "# - s.lower() : возвращает строчную версию строки s\n",
        "names = ['karan', 'Ali', 'Charan', 'meet']\n",
        "print(\"Самое длинное имя:\", max(names, key=lambda name: len(name))) # или просто key=len\n",
        "print(\"Имена отсортированы без учета регистра:\", sorted(names, key=lambda name: name.lower()))"
      ],
      "execution_count": null,
      "outputs": []
    },
    {
      "metadata": {
        "_uuid": "9f8dc8e54c81e8a74b08414dfdbc3d3ac43dddd0",
        "id": "WulIRxAxApbZ"
      },
      "cell_type": "markdown",
      "source": [
        "# Булевые значения и условия\n",
        "\n",
        "В Python существует тип bool, который может принимать одно из двух значений: True и False."
      ]
    },
    {
      "metadata": {
        "trusted": true,
        "collapsed": true,
        "_uuid": "cc7c1b0a7c940c4c5d988fa6ccb04a1bd214589b",
        "colab": {
          "base_uri": "https://localhost:8080/"
        },
        "id": "_eOWq8WpApbZ",
        "outputId": "f9cdda93-32e9-4754-e905-b790c4d41c97"
      },
      "cell_type": "code",
      "source": [
        "z = True\n",
        "print(z)\n",
        "print(type(z))"
      ],
      "execution_count": 37,
      "outputs": [
        {
          "output_type": "stream",
          "name": "stdout",
          "text": [
            "True\n",
            "<class 'bool'>\n"
          ]
        }
      ]
    },
    {
      "metadata": {
        "_uuid": "48e09da3e17df0047e04585a8ed2ea4c985a6e72",
        "id": "4lSa4IUnApbZ"
      },
      "cell_type": "markdown",
      "source": [
        "Вместо того чтобы вводить True или False непосредственно в код, мы обычно получаем булевы значения с помощью булевых операторов.\n",
        "\n",
        "> Блок с отступами\n",
        "\n",
        "\n",
        "Это операторы, отвечающие на вопросы типа \"да/нет\". Ниже мы рассмотрим некоторые из этих операторов.\n",
        "\n",
        "**Операторы сравнения**\n",
        "\n",
        "[comparison.png](https://pasteboard.co/HAsor9AN.png)"
      ]
    },
    {
      "metadata": {
        "trusted": true,
        "_uuid": "0271c220bcb1811c21c52577a9362f9214f06613",
        "collapsed": true,
        "colab": {
          "base_uri": "https://localhost:8080/"
        },
        "id": "sBUMJq2NApbZ",
        "outputId": "4b317a43-c13c-4f67-a621-a2015da0eec1"
      },
      "cell_type": "code",
      "source": [
        "def can_run_for_president(age):\n",
        "    \"\"\"Может ли человек данного возраста баллотироваться в президенты в Индии?\"\"\"\n",
        "    # Конституция США гласит, что вы должны \"достигнуть возраста тридцати пяти лет\".\n",
        "    return age >= 35\n",
        "\n",
        "print(\"Может ли 19-летний баллотироваться в президенты?\", can_run_for_president(19))\n",
        "print(\"Может ли 45-летний баллотироваться в президенты?\", can_run_for_president(45))"
      ],
      "execution_count": 38,
      "outputs": [
        {
          "output_type": "stream",
          "name": "stdout",
          "text": [
            "Может ли 19-летний баллотироваться в президенты? False\n",
            "Может ли 45-летний баллотироваться в президенты? True\n"
          ]
        }
      ]
    },
    {
      "metadata": {
        "_uuid": "09c5853707beab9e45907eebdb80c3144f0d09f7",
        "id": "u7glFgcYApbZ"
      },
      "cell_type": "markdown",
      "source": [
        "Сравнение - штука умная..."
      ]
    },
    {
      "metadata": {
        "trusted": true,
        "collapsed": true,
        "_uuid": "35035ef5e61f30a32b2b0d9c776215a398779668",
        "colab": {
          "base_uri": "https://localhost:8080/"
        },
        "id": "fNc56LjgApbZ",
        "outputId": "5c8355bd-2217-4972-d494-8b9e31b7cc5a"
      },
      "cell_type": "code",
      "source": [
        "3.0 == 3"
      ],
      "execution_count": 40,
      "outputs": [
        {
          "output_type": "execute_result",
          "data": {
            "text/plain": [
              "True"
            ]
          },
          "metadata": {},
          "execution_count": 40
        }
      ]
    },
    {
      "metadata": {
        "_uuid": "ee2eff0fbb47967083cc4b392594293ea2f82639",
        "id": "byfaGyZ2Apba"
      },
      "cell_type": "markdown",
      "source": [
        "Но не слишком умная..."
      ]
    },
    {
      "metadata": {
        "trusted": true,
        "collapsed": true,
        "_uuid": "58161be3cf8e8b54133a188ca9ab8b7432cd7ac2",
        "colab": {
          "base_uri": "https://localhost:8080/"
        },
        "id": "_5ztJMw2Apba",
        "outputId": "899e25fc-0a12-4c5f-f570-198ced4814fa"
      },
      "cell_type": "code",
      "source": [
        "'3' == 3"
      ],
      "execution_count": 41,
      "outputs": [
        {
          "output_type": "execute_result",
          "data": {
            "text/plain": [
              "False"
            ]
          },
          "metadata": {},
          "execution_count": 41
        }
      ]
    },
    {
      "metadata": {
        "_uuid": "3bea9395cbfe6d61d2b2393cf35e92d25714170f",
        "id": "2bV8iZ8pApba"
      },
      "cell_type": "markdown",
      "source": [
        "Comparison operators can be combined with the arithmetic operators we've already seen to express a virtually limitless range of mathematical tests. For example, we can check if a number is odd by checking that the modulus with 2 returns 1:"
      ]
    },
    {
      "metadata": {
        "trusted": true,
        "collapsed": true,
        "_uuid": "dd6510bd314e5ad7cd9241b2b107ee463136b404",
        "id": "LLeBS6jXApba"
      },
      "cell_type": "code",
      "source": [
        "def is_odd(n):\n",
        "    return (n % 2) == 1\n",
        "\n",
        "print(\"Is 100 odd?\", is_odd(100))\n",
        "print(\"Is -1 odd?\", is_odd(-1))"
      ],
      "execution_count": null,
      "outputs": []
    },
    {
      "metadata": {
        "_uuid": "dad60f772895c9bc0736aab1611dd9bb4a665b0e",
        "id": "8ybmWG1lApba"
      },
      "cell_type": "markdown",
      "source": [
        "Не забывайте использовать == вместо = при выполнении сравнений. Если вы пишете n == 2, вы спрашиваете о значении n. Если вы пишете n = 2, вы изменяете значение n."
      ]
    },
    {
      "metadata": {
        "_uuid": "8772b70c4e16a795e362719bb30320b059498746",
        "id": "h09nZ8ytApba"
      },
      "cell_type": "markdown",
      "source": [
        "# Объединение булевых значений\n",
        "\n",
        "В Python предусмотрены операторы для объединения булевых значений, использующие стандартные понятия \"and\", \"or\" и \"not\". И на самом деле, соответствующие операторы Python используют именно эти слова: and, or, not.\n",
        "\n",
        "С их помощью мы можем сделать нашу функцию can_run_for_president более точной."
      ]
    },
    {
      "metadata": {
        "trusted": true,
        "collapsed": true,
        "_uuid": "e27fa00f80551380784de723f1787d90160c8fd2",
        "colab": {
          "base_uri": "https://localhost:8080/"
        },
        "id": "ejrmZGxWApba",
        "outputId": "7f82e8d5-af93-484f-aed3-edf9c47d9bb2"
      },
      "cell_type": "code",
      "source": [
        "def can_run_for_president(age, is_natural_born_citizen):\n",
        "    \"\"\"Can someone of the given age and citizenship status run for president in India?\"\"\"\n",
        "    # The US Constitution says you must be a natural born citizen *and* at least 35 years old\n",
        "    return is_natural_born_citizen and (age >= 35)\n",
        "\n",
        "print(can_run_for_president(19, True))\n",
        "print(can_run_for_president(55, False))\n",
        "print(can_run_for_president(55, True))"
      ],
      "execution_count": 42,
      "outputs": [
        {
          "output_type": "stream",
          "name": "stdout",
          "text": [
            "False\n",
            "False\n",
            "True\n"
          ]
        }
      ]
    },
    {
      "metadata": {
        "_uuid": "395ee7e81d67d7d9b867cb4ae301bd50cdda67d4",
        "id": "SHGdO90iApba"
      },
      "cell_type": "markdown",
      "source": [
        "# Условные выражения\n",
        "Хотя булевы выражения достаточно полезны сами по себе, они становятся по-настоящему яркими в сочетании с условными операторами, использующими ключевые слова if, elif и else.\n",
        "\n",
        "Условные операторы, часто называемые операторами if-then, позволяют программисту выполнять определенные фрагменты кода в зависимости от некоторого булева условия. Базовый пример условного оператора Python выглядит следующим образом:"
      ]
    },
    {
      "metadata": {
        "trusted": true,
        "collapsed": true,
        "_uuid": "db33e82b3f94ad7b1d14dff4f987ffe708694fb6",
        "colab": {
          "base_uri": "https://localhost:8080/"
        },
        "id": "OLNe9e7tApba",
        "outputId": "520229ae-cef8-43fe-ff4a-64c3a632409d"
      },
      "cell_type": "code",
      "source": [
        "def test(x):\n",
        "    if x == 0:\n",
        "        print(x, \"is zero\")\n",
        "    elif x > 0:\n",
        "        print(x, \"is positive\")\n",
        "    elif x < 0:\n",
        "        print(x, \"is negative\")\n",
        "    else:\n",
        "        print(x, \"is unlike anything I've ever seen...\")\n",
        "\n",
        "test(0)\n",
        "test(100)\n",
        "test(-15)"
      ],
      "execution_count": 43,
      "outputs": [
        {
          "output_type": "stream",
          "name": "stdout",
          "text": [
            "0 is zero\n",
            "100 is positive\n",
            "-15 is negative\n"
          ]
        }
      ]
    },
    {
      "metadata": {
        "_uuid": "c67f23486240e98d26181a2ca00379864813ac24",
        "id": "xTVs1lVnApbb"
      },
      "cell_type": "markdown",
      "source": [
        "В Python приняты if и else, часто используемые в других языках; его более уникальным ключевым словом является elif, сокращение от \"else if\". В этих условных предложениях блоки elif и else необязательны; кроме того, вы можете включать столько операторов elif, сколько пожелаете.\n",
        "\n",
        "Обратите особое внимание на использование двоеточий (:) и пробелов для обозначения отдельных блоков кода. Это похоже на то, что происходит при определении функции - заголовок функции заканчивается символом :, а следующая строка отделяется 4 пробелами. Все последующие строки с отступами относятся к телу функции, пока не встретится строка без отступов, завершающая определение функции."
      ]
    },
    {
      "metadata": {
        "trusted": true,
        "collapsed": true,
        "_uuid": "b38e79ac4c3a3bb6dc74c0c3f707f329c44087d3",
        "id": "bt35kcexApbb"
      },
      "cell_type": "code",
      "source": [
        "def f(x):\n",
        "    if x > 0:\n",
        "        print(\"Only printed when x is positive; x =\", x)\n",
        "        print(\"Also only printed when x is positive; x =\", x)\n",
        "    print(\"Always printed, regardless of x's value; x =\", x)\n",
        "\n",
        "f(1)\n",
        "f(0)"
      ],
      "execution_count": null,
      "outputs": []
    },
    {
      "metadata": {
        "_uuid": "fa3828de97ae8c5611cad83bc3c9213839f8f878",
        "id": "iFoiNoZ6Apbb"
      },
      "cell_type": "markdown",
      "source": [
        "# Булево преобразование\n",
        "\n",
        "Мы уже встречались с функциями int(), которая превращает числа в инты, и float(), которая превращает числа в поплавки, поэтому вы не удивитесь, узнав, что в Python есть функция bool(), которая превращает числа в поплавки."
      ]
    },
    {
      "metadata": {
        "trusted": true,
        "collapsed": true,
        "_uuid": "8a6d7216f1f66f52d1171faf1618c481b6886a8f",
        "colab": {
          "base_uri": "https://localhost:8080/"
        },
        "id": "FQ2MJTwGApbb",
        "outputId": "4ee42393-4677-46d4-c7cb-1ededf8c1fea"
      },
      "cell_type": "code",
      "source": [
        "print(bool(1)) # все числа считаются истинными, кроме 0\n",
        "print(bool(0))\n",
        "print(bool(\"hello world\")) # все строки считаются истинными, кроме пустой строки \"\"\n",
        "print(bool(\"\"))\n",
        "# Вообще пустые последовательности (строки, списки и другие типы, которые нам еще предстоит увидеть, например, списки и кортежи)\n",
        "# являются \"ложными\", а остальные - \"истинными\""
      ],
      "execution_count": 44,
      "outputs": [
        {
          "output_type": "stream",
          "name": "stdout",
          "text": [
            "True\n",
            "False\n",
            "True\n",
            "False\n"
          ]
        }
      ]
    },
    {
      "metadata": {
        "_uuid": "da1a30531329f657f9fe915c56746bcfeed54042",
        "id": "d4BSWFvRApbb"
      },
      "cell_type": "markdown",
      "source": [
        "Мы можем использовать небулевые объекты в условиях if и других местах, где ожидалось бы использование булевых значений. Python будет неявно рассматривать их как соответствующее булево значение:"
      ]
    },
    {
      "metadata": {
        "trusted": true,
        "collapsed": true,
        "_uuid": "f58ce27d023a2e163bbf83c1e84ef997c688f732",
        "id": "PS0Y8156Apbb"
      },
      "cell_type": "code",
      "source": [
        "if 0:\n",
        "    print(0)\n",
        "elif \"spam\":\n",
        "    print(\"spam\")"
      ],
      "execution_count": null,
      "outputs": []
    },
    {
      "metadata": {
        "_uuid": "1a48811adae760b05b9d16de5bf807ec0450108c",
        "id": "NSMNOibFApbb"
      },
      "cell_type": "markdown",
      "source": [
        "# Условные выражения (они же \"тернарные\")\n",
        "\n",
        "Установка переменной в одно из двух значений в зависимости от некоторого условия - довольно распространенная схема."
      ]
    },
    {
      "metadata": {
        "trusted": true,
        "_uuid": "e7fd78040feba31fd63c923d4a7c30404e41c7ba",
        "collapsed": true,
        "id": "RnGO40H3Apbb"
      },
      "cell_type": "code",
      "source": [
        "def quiz(grade):\n",
        "    if grade < 50:\n",
        "        outcome = 'failed'\n",
        "    else:\n",
        "        outcome = 'passed'\n",
        "    print('You', outcome, 'the quiz with a grade of', grade)\n",
        "\n",
        "quiz(90)"
      ],
      "execution_count": null,
      "outputs": []
    },
    {
      "metadata": {
        "_uuid": "cbf2e0314697a7042db10115eed74d1622eec5e8",
        "id": "DaLAQ1q1Apbc"
      },
      "cell_type": "markdown",
      "source": [
        "В Python есть удобный однострочный синтаксис \"условного выражения\", упрощающий эти случаи:"
      ]
    },
    {
      "metadata": {
        "trusted": true,
        "collapsed": true,
        "_uuid": "b4bd7a4f7697ce671727e94b97f843080c30d9c9",
        "id": "nXUnDsqZApbc"
      },
      "cell_type": "code",
      "source": [
        "def quiz_message(grade):\n",
        "    outcome = 'failed' if grade < 50 else 'passed'\n",
        "    print('You', outcome, 'the quiz with a grade of', grade)\n",
        "\n",
        "quiz_message(45)"
      ],
      "execution_count": null,
      "outputs": []
    },
    {
      "metadata": {
        "_uuid": "f44456ce7123bf165e50f6462644048fa975e87c",
        "id": "a-bJgQRMApbc"
      },
      "cell_type": "markdown",
      "source": [
        "Вы можете заметить, что это похоже на тернарный оператор, который существует во многих других языках. Например, на javascript мы бы записали приведенное выше задание как `var outcome = grade < 50 ? 'failed' : 'passed'`. (Если говорить о читабельности, то здесь, на мой взгляд, победителем является Python)."
      ]
    },
    {
      "cell_type": "code",
      "source": [],
      "metadata": {
        "id": "ILXAEx44Krcw"
      },
      "execution_count": null,
      "outputs": []
    }
  ],
  "metadata": {
    "kernelspec": {
      "display_name": "Python 3",
      "language": "python",
      "name": "python3"
    },
    "language_info": {
      "name": "python",
      "version": "3.6.4",
      "mimetype": "text/x-python",
      "codemirror_mode": {
        "name": "ipython",
        "version": 3
      },
      "pygments_lexer": "ipython3",
      "nbconvert_exporter": "python",
      "file_extension": ".py"
    },
    "colab": {
      "provenance": []
    }
  },
  "nbformat": 4,
  "nbformat_minor": 0
}